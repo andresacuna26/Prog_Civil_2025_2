{
  "nbformat": 4,
  "nbformat_minor": 0,
  "metadata": {
    "colab": {
      "provenance": [],
      "authorship_tag": "ABX9TyPEUFduUqI03tejkZIPjNgJ",
      "include_colab_link": true
    },
    "kernelspec": {
      "name": "python3",
      "display_name": "Python 3"
    },
    "language_info": {
      "name": "python"
    }
  },
  "cells": [
    {
      "cell_type": "markdown",
      "metadata": {
        "id": "view-in-github",
        "colab_type": "text"
      },
      "source": [
        "<a href=\"https://colab.research.google.com/github/andresacuna26/Prog_Civil_2025_2/blob/main/Semana_2_y_3_civil.ipynb\" target=\"_parent\"><img src=\"https://colab.research.google.com/assets/colab-badge.svg\" alt=\"Open In Colab\"/></a>"
      ]
    },
    {
      "cell_type": "markdown",
      "source": [
        "#Situación 1: Clasificador de pH del Suelo\n",
        "\n",
        " El pH del suelo es un factor crítico para la absorción de\n",
        "nutrientes por parte de las plantas. Desarrollarás un programa que recibe un valor de pH e informa al\n",
        "agricultor si el suelo es ácido, neutro o alcalino, ofreciendo una recomendación general."
      ],
      "metadata": {
        "id": "ahgTRQ4t_c4S"
      }
    },
    {
      "cell_type": "code",
      "source": [
        "# Explicar al usuario que el programa clasifica el pH del suelo.\n",
        "print(\"Este programa clasifica el pH del suelo.\")\n",
        "\n",
        "# Pedir al usuario que ingrese el valor de pH medido (puede ser decimal).\n",
        "# Guardar el valor en una variable.\n",
        "pH = float(input(\"Ingrese el valor de pH medido: \"))\n",
        "# Utilizar una estructura 'if' para la primera condición: si el pH es menor que 7.0\n",
        "# Dentro del 'if', mostrar un mensaje indicando que el suelo es \"Ácido\" y recomendar el uso de cal agrícola.\n",
        "if pH < 7.0:\n",
        "    print(\"El suelo es ácido. Se recomienda el uso de cal agrícola.\")\n",
        "# Utilizar una estructura 'elif' para la segunda condición: si el pH es mayor que 7\n",
        "elif pH > 7.0:\n",
        "# Dentro del 'elif', mostrar un mensaje indicando que el suelo es \"Alcalino\" y recomendar el uso de fertilizantes.\n",
        "    print(\"El suelo es alcalino. Se recomienda el uso de fertilizantes.\")\n",
        "else:\n",
        "# Dentro del 'else', mostrar un mensaje indicando que el suelo es \"Neutro\" y que es ideal para la mayoría de los cultivos.\n",
        "    print(\"El suelo es neutro. Es ideal para la mayoría de los cultivos.\")"
      ],
      "metadata": {
        "colab": {
          "base_uri": "https://localhost:8080/"
        },
        "id": "rMsA9VIKCYmf",
        "outputId": "30d8eccb-e2c1-436b-b19a-899b131c4108"
      },
      "execution_count": 11,
      "outputs": [
        {
          "output_type": "stream",
          "name": "stdout",
          "text": [
            "Este programa clasifica el pH del suelo.\n",
            "Ingrese el valor de pH medido: 10\n",
            "El suelo es alcalino. Se recomienda el uso de fertilizantes.\n"
          ]
        }
      ]
    },
    {
      "cell_type": "markdown",
      "source": [
        "# Situación 1: Verificación de Resistencia de Concreto\n",
        "\n",
        " Un laboratorio de materiales ensaya probetas\n",
        "de concreto a los 28 días. El concreto es de tipo “G-25”, lo que significa que debe tener una resistencia mínima\n",
        "de 25 MPa.\n",
        "\n",
        " El programa debe indicar si la probeta cumple, está por debajo o supera excepcionalmente la\n",
        "norma (más de 30 MPa).\n",
        "Paso a Paso del Código (Guía para el Notebook)\n",
        "1. # Explicar que el programa verifica la resistencia de una probeta de concreto.\n",
        "2. # Pedir al usuario que ingrese la resistencia obtenida en el ensayo (en MPa).\n",
        "3. # Almacenar el resultado en una variable.\n",
        "4. # Usar una condición 'if' para ver si la resistencia es menor a 25.\n",
        "5. # Si es así, imprimir \"NO CUMPLE con la norma G-25\".\n",
        "6. # Usar una condición 'elif' para ver si la resistencia es mayor o igual a 25 Y a la vez menor o igual a 30.\n",
        "7. # Si es así, imprimir \"CUMPLE con la norma G-25\".\n",
        "8. # Usar 'else' para el caso restante (mayor a 30).\n",
        "9. # En el 'else', imprimir \"CUMPLE y supera excepcionalmente la norma G-25\"."
      ],
      "metadata": {
        "id": "xK8dlb_pKXMq"
      }
    },
    {
      "cell_type": "code",
      "source": [],
      "metadata": {
        "id": "Tod7r5y4LBHY"
      },
      "execution_count": null,
      "outputs": []
    },
    {
      "cell_type": "code",
      "metadata": {
        "colab": {
          "base_uri": "https://localhost:8080/"
        },
        "id": "811a017a",
        "outputId": "329cab7c-e209-44e5-ae25-f291b71aaeb6"
      },
      "source": [
        "# Explicar que el programa verifica la resistencia de una probeta de concreto.\n",
        "print(\"Este programa verifica la resistencia de una probeta de concreto.\")\n",
        "\n",
        "# Pedir al usuario que ingrese la resistencia obtenida en el ensayo (en MPa).\n",
        "resistencia = float(input(\"Ingrese la resistencia obtenida en el ensayo (en MPa): \"))\n",
        "\n",
        "# Usar una condición 'if' para ver si la resistencia es menor a 25.\n",
        "if resistencia < 25:\n",
        "    # Si es así, imprimir \"NO CUMPLE con la norma G-25\".\n",
        "    print(\"NO CUMPLE con la norma G-25.\")\n",
        "# Usar una condición 'elif' para ver si la resistencia es mayor o igual a 25 Y a la vez menor o igual a 30.\n",
        "elif 25 <= resistencia <= 30:\n",
        "    # Si es así, imprimir \"CUMPLE con la norma G-25\".\n",
        "    print(\"CUMPLE con la norma G-25.\")\n",
        "# Usar 'else' para el caso restante (mayor a 30).\n",
        "else:\n",
        "    # En el 'else', imprimir \"CUMPLE y supera excepcionalmente la norma G-25\".\n",
        "    print(\"CUMPLE y supera excepcionalmente la norma G-25.\")"
      ],
      "execution_count": 13,
      "outputs": [
        {
          "output_type": "stream",
          "name": "stdout",
          "text": [
            "Este programa verifica la resistencia de una probeta de concreto.\n",
            "Ingrese la resistencia obtenida en el ensayo (en MPa): 38\n",
            "CUMPLE y supera excepcionalmente la norma G-25.\n"
          ]
        }
      ]
    },
    {
      "cell_type": "markdown",
      "source": [
        "# Situación 2: Cálculo de Carga Acumulada en una Columna\n",
        "\n",
        "Una columna soporta las cargas de\n",
        "varios pisos de un edificio. Debes crear un programa que pregunte cuántos pisos hay y luego pida la carga\n",
        "de cada piso para finalmente calcular la carga total que llega a la cimentación.\n",
        "\n",
        "Paso a Paso del Código (Guía para el Notebook)\n",
        "1. # Inicializar una variable para la carga total en 0.\n",
        "2. # Preguntar al usuario cuántos pisos tiene el edificio.\n",
        "3. # Guardar el número de pisos en una variable.\n",
        "4. # Crear un bucle 'for' que se ejecute tantas veces como el número de pisos.\n",
        "5. # Dentro del bucle, pedir al usuario la carga del piso actual en tonelada (ej;\"Ingrese la carga del piso 1:\").\n",
        "6. # Añadir esta carga a la variable de carga total.\n",
        "7. # Una vez finalizado el bucle, mostrar la carga total acumulada que la columna\n",
        "transmite a la cimentación.\n",
        "\n",
        "\n"
      ],
      "metadata": {
        "id": "voTp99jsO0BP"
      }
    },
    {
      "cell_type": "code",
      "metadata": {
        "colab": {
          "base_uri": "https://localhost:8080/"
        },
        "id": "511c732b",
        "outputId": "7b3c188f-76c4-4990-b657-8cbcb1992728"
      },
      "source": [
        "# Inicializar una variable para la carga total en 0.\n",
        "carga_total = 0\n",
        "\n",
        "# Preguntar al usuario cuántos pisos tiene el edificio.\n",
        "num_pisos = int(input(\"¿Cuántos pisos tiene el edificio? \"))\n",
        "\n",
        "# Crear un bucle 'for' que se ejecute tantas veces como el número de pisos.\n",
        "for i in range(num_pisos):\n",
        "    # Dentro del bucle, pedir al usuario la carga del piso actual en tonelada (ej;\"Ingrese la carga del piso 1:\").\n",
        "    carga_piso = float(input(f\"Ingrese la carga del piso {i + 1} (en toneladas): \"))\n",
        "    # Añadir esta carga a la variable de carga total.\n",
        "    carga_total += carga_piso\n",
        "\n",
        "# Una vez finalizado el bucle, mostrar la carga total acumulada que la columna\n",
        "# transmite a la cimentación.\n",
        "print(f\"La carga total acumulada en la columna es: {carga_total} toneladas\")"
      ],
      "execution_count": 14,
      "outputs": [
        {
          "output_type": "stream",
          "name": "stdout",
          "text": [
            "¿Cuántos pisos tiene el edificio? 3\n",
            "Ingrese la carga del piso 1 (en toneladas): 123\n",
            "Ingrese la carga del piso 2 (en toneladas): 322\n",
            "Ingrese la carga del piso 3 (en toneladas): 456\n",
            "La carga total acumulada en la columna es: 901.0 toneladas\n"
          ]
        }
      ]
    }
  ]
}